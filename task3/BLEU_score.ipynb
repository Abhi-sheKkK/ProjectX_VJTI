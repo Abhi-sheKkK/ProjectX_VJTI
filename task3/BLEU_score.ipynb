{
  "metadata": {
    "kernelspec": {
      "name": "python",
      "display_name": "Python (Pyodide)",
      "language": "python"
    },
    "language_info": {
      "codemirror_mode": {
        "name": "python",
        "version": 3
      },
      "file_extension": ".py",
      "mimetype": "text/x-python",
      "name": "python",
      "nbconvert_exporter": "python",
      "pygments_lexer": "ipython3",
      "version": "3.8"
    }
  },
  "nbformat_minor": 4,
  "nbformat": 4,
  "cells": [
    {
      "cell_type": "code",
      "source": "import math\nimport numpy as np\nfrom collections import Counter",
      "metadata": {
        "trusted": true
      },
      "outputs": [],
      "execution_count": 3
    },
    {
      "cell_type": "code",
      "source": "references=[\"It is a guide to action that ensures that the military will forever heed Party commands\",\n            \"It is the guiding principle which guarantees the military forces always being under the command of the Party\",\n            \"It is the practical guide for the army always to heed the directions of the party\"]\ncandidate=\"It is a guide to action which ensures that the military always obeys the commands of the party\"\n            ",
      "metadata": {
        "trusted": true
      },
      "outputs": [],
      "execution_count": 18
    },
    {
      "cell_type": "code",
      "source": "def ngrams(sentence,n):\n    words=sentence.split()\n    ngram=[]\n    if n==1 :\n        for word in words:\n            ngram.append(word)\n    elif len(words)>=n:\n        for i in range(len(words)-(n-1)):\n            pairtuple=tuple(words[i:i+n])\n            ngram.append(pairtuple)\n    \n    \n    return ngram",
      "metadata": {
        "trusted": true
      },
      "outputs": [],
      "execution_count": 19
    },
    {
      "cell_type": "code",
      "source": "def modified_precision(references,candidate,n):\n    if len(candidate.split())>=n:\n        can_counts=Counter(ngrams(candidate,n))\n    else:\n        can_counts=Counter()\n    ref_union={}\n    for reference in references:\n        if len(reference.split())>=n:\n            ref_counts=Counter(ngrams(reference,n))\n        else:\n            ref_counts=Counter()\n        for ngram in can_counts:\n            ref_union[ngram]=max(ref_union.get(ngram,0),ref_counts.get(ngram,0))\n    clipped_counts={}\n    for ngram,count in can_counts.items():\n        clipped_counts[ngram]=min(count,ref_union[ngram])\n    pn=sum(clipped_counts.values())/sum(can_counts.values())\n    return pn\n    ",
      "metadata": {
        "trusted": true
      },
      "outputs": [],
      "execution_count": 20
    },
    {
      "cell_type": "code",
      "source": "def r_and_c(references,candidate):\n    c=len(candidate)\n    r=0\n    diff_rc=len(references[0])-c\n    for reference in references:\n        if len(reference)-c<=abs(diff_rc):\n            r=len(reference)\n            diff_rc=len(reference)-c\n    return r,c\n        ",
      "metadata": {
        "trusted": true
      },
      "outputs": [],
      "execution_count": 21
    },
    {
      "cell_type": "code",
      "source": "def bleu_score(references,candidate):\n    wn=0.25  #for uniform weights wn=1/N =1/4=0.25\n    epsilon =1e-10 # Small constant to avoid log(0)\n    r,c= r_and_c(references,candidate)\n    prod=1\n    for n in range(1,5):\n        prod=prod*max(modified_precision(references,candidate,n),epsilon)\n    geo_mean=prod**wn\n    if c>r:\n        BP=1\n    else:\n        BP=(1-r/c)\n    BLEU=BP*geo_mean\n    \n    \n   \n    return BLEU",
      "metadata": {
        "trusted": true
      },
      "outputs": [],
      "execution_count": 22
    },
    {
      "cell_type": "code",
      "source": "bleu_score(references,candidate)",
      "metadata": {
        "trusted": true
      },
      "outputs": [
        {
          "execution_count": 24,
          "output_type": "execute_result",
          "data": {
            "text/plain": "0.5045666840058485"
          },
          "metadata": {}
        }
      ],
      "execution_count": 24
    }
  ]
}