{
  "metadata": {
    "kernelspec": {
      "name": "python",
      "display_name": "Python (Pyodide)",
      "language": "python"
    },
    "language_info": {
      "codemirror_mode": {
        "name": "python",
        "version": 3
      },
      "file_extension": ".py",
      "mimetype": "text/x-python",
      "name": "python",
      "nbconvert_exporter": "python",
      "pygments_lexer": "ipython3",
      "version": "3.8"
    }
  },
  "nbformat_minor": 4,
  "nbformat": 4,
  "cells": [
    {
      "cell_type": "code",
      "source": "import numpy as np\nimport cv2 as cv\nfrom matplotlib import pyplot as plt",
      "metadata": {
        "trusted": true
      },
      "outputs": [],
      "execution_count": 1
    },
    {
      "cell_type": "code",
      "source": "img1=cv.imread(\"tc2-1.png\")",
      "metadata": {
        "trusted": true
      },
      "outputs": [],
      "execution_count": 2
    },
    {
      "cell_type": "code",
      "source": "img2=cv.imread(\"tc2-2.png\")",
      "metadata": {
        "trusted": true
      },
      "outputs": [],
      "execution_count": 3
    },
    {
      "cell_type": "code",
      "source": "img3=cv.imread(\"tc2-3.png\")",
      "metadata": {
        "trusted": true
      },
      "outputs": [],
      "execution_count": 4
    },
    {
      "cell_type": "code",
      "source": "def cropimg(img):\n    img.shape\n    #removing border from image .\n    img=img[40:760,50:550]\n    return img",
      "metadata": {
        "trusted": true
      },
      "outputs": [],
      "execution_count": 5
    },
    {
      "cell_type": "code",
      "source": "def findrowcolumn(img):\n     # Detecting edges\n    grayimg = cv.cvtColor(img, cv.COLOR_BGR2GRAY)\n    edges = cv.Canny(grayimg, 100, 200)\n    height, width = edges.shape\n    break_outer=False\n    for i in range(height):\n        if break_outer:\n            break\n        for j in range(width):\n            if edges[i, j] == 255:\n                column=j\n                break_outer=True\n                break\n    break_outer=False\n    for j in range(width):\n        if break_outer:\n            break\n        for i in range(height):\n            if edges[i, j] == 255:\n                row = i\n                break_outer=True\n                break\n    return edges,row,column",
      "metadata": {
        "trusted": true
      },
      "outputs": [],
      "execution_count": 6
    },
    {
      "cell_type": "code",
      "source": "def finddiagolength(edges,row):\n    # Finding horizontal diagonal end points of squares of horizontal row by detecting color change\n    height, width = edges.shape\n    list2 = [0]\n    counter = 0\n    for j in range(width):\n        value = int(edges[row, j] - edges[row, list2[counter]])\n        if value != 0:\n            counter += 1\n            list2.append(j)\n\n    # Finding the length of horizontal diagonal of each square\n    list3 = []\n    for n in range(5):\n        length = int(list2[4 * n + 3]) - int(list2[4 * n + 2])\n        list3.append(length)\n\n    return list3",
      "metadata": {
        "trusted": true
      },
      "outputs": [],
      "execution_count": 7
    },
    {
      "cell_type": "code",
      "source": "def conditionalrotate(edges,list3,row):\n    if max(list3)-min(list3)<10:\n        edges = cv.rotate(edges, cv.ROTATE_180)\n        list3=finddiagolength(edges,row)\n    return list3,edges\n    \n    ",
      "metadata": {
        "trusted": true
      },
      "outputs": [],
      "execution_count": 8
    },
    {
      "cell_type": "code",
      "source": "def findindex(list3):\n    for n in range(len(list3)):\n        if list3[n]==max(list3):\n            index1=n\n    return index1",
      "metadata": {
        "trusted": true
      },
      "outputs": [],
      "execution_count": 9
    },
    {
      "cell_type": "code",
      "source": "def finddiagolengthv(edges,column):\n    height, width = edges.shape\n    # Finding vertical diagonal end points of squares in vertical column by detecting color change\n    list2v = [0]\n    counter = 0\n    \n    for i in range(height):\n        value = int(edges[i, column] - edges[list2v[counter], column])\n        if value != 0:\n            counter += 1\n            list2v.append(i)\n    \n    # Finding the length of vertical diagonal of each square\n    list3v = []\n    for n in range(6):\n        length = int(list2v[4 * n + 3]) - int(list2v[4 * n + 2])\n        list3v.append(length)\n    \n    return list3v",
      "metadata": {
        "trusted": true
      },
      "outputs": [],
      "execution_count": 10
    },
    {
      "cell_type": "code",
      "source": "def findindexv(list3v):\n    #finding the index of longest diagonal.\n    for n in range(len(list3v)):\n        if list3v[n]==max(list3v):\n            index2=n\n    return index2        ",
      "metadata": {
        "trusted": true
      },
      "outputs": [],
      "execution_count": 11
    },
    {
      "cell_type": "code",
      "source": "img1=cropimg(img1)",
      "metadata": {
        "trusted": true
      },
      "outputs": [],
      "execution_count": 12
    },
    {
      "cell_type": "code",
      "source": "edges,row,column=findrowcolumn(img1)",
      "metadata": {
        "trusted": true
      },
      "outputs": [],
      "execution_count": 13
    },
    {
      "cell_type": "code",
      "source": "list3=finddiagolength(edges,row)",
      "metadata": {
        "trusted": true
      },
      "outputs": [
        {
          "name": "stderr",
          "text": "<ipython-input-7-1060b58819fe>:7: RuntimeWarning: overflow encountered in scalar subtract\n  value = int(edges[row, j] - edges[row, list2[counter]])\n",
          "output_type": "stream"
        }
      ],
      "execution_count": 14
    },
    {
      "cell_type": "code",
      "source": "list3,edges=conditionalrotate(edges,list3,row)",
      "metadata": {
        "trusted": true
      },
      "outputs": [],
      "execution_count": 15
    },
    {
      "cell_type": "code",
      "source": "index1img1=findindex(list3)",
      "metadata": {
        "trusted": true
      },
      "outputs": [],
      "execution_count": 16
    },
    {
      "cell_type": "code",
      "source": "list3v=finddiagolengthv(edges,column)",
      "metadata": {
        "trusted": true
      },
      "outputs": [
        {
          "name": "stderr",
          "text": "<ipython-input-10-65ae66d6711d>:8: RuntimeWarning: overflow encountered in scalar subtract\n  value = int(edges[i, column] - edges[list2v[counter], column])\n",
          "output_type": "stream"
        }
      ],
      "execution_count": 17
    },
    {
      "cell_type": "code",
      "source": "index2img1=findindex(list3v)",
      "metadata": {
        "trusted": true
      },
      "outputs": [],
      "execution_count": 18
    },
    {
      "cell_type": "code",
      "source": "img2=cropimg(img2)",
      "metadata": {
        "trusted": true
      },
      "outputs": [],
      "execution_count": 19
    },
    {
      "cell_type": "code",
      "source": "edges,row,column=findrowcolumn(img2)",
      "metadata": {
        "trusted": true
      },
      "outputs": [],
      "execution_count": 20
    },
    {
      "cell_type": "code",
      "source": "list3=finddiagolength(edges,row)",
      "metadata": {
        "trusted": true
      },
      "outputs": [
        {
          "name": "stderr",
          "text": "<ipython-input-7-1060b58819fe>:7: RuntimeWarning: overflow encountered in scalar subtract\n  value = int(edges[row, j] - edges[row, list2[counter]])\n",
          "output_type": "stream"
        }
      ],
      "execution_count": 21
    },
    {
      "cell_type": "code",
      "source": "list3,edges=conditionalrotate(edges,list3,row)",
      "metadata": {
        "trusted": true
      },
      "outputs": [],
      "execution_count": 22
    },
    {
      "cell_type": "code",
      "source": "index1img2=findindex(list3)",
      "metadata": {
        "trusted": true
      },
      "outputs": [],
      "execution_count": 23
    },
    {
      "cell_type": "code",
      "source": "list3v=finddiagolengthv(edges,column)",
      "metadata": {
        "trusted": true
      },
      "outputs": [
        {
          "name": "stderr",
          "text": "<ipython-input-10-65ae66d6711d>:8: RuntimeWarning: overflow encountered in scalar subtract\n  value = int(edges[i, column] - edges[list2v[counter], column])\n",
          "output_type": "stream"
        }
      ],
      "execution_count": 24
    },
    {
      "cell_type": "code",
      "source": "index2img2=findindex(list3v)",
      "metadata": {
        "trusted": true
      },
      "outputs": [],
      "execution_count": 25
    },
    {
      "cell_type": "code",
      "source": "img3=cropimg(img3)",
      "metadata": {
        "trusted": true
      },
      "outputs": [],
      "execution_count": 26
    },
    {
      "cell_type": "code",
      "source": "edges,row,column=findrowcolumn(img3)",
      "metadata": {
        "trusted": true
      },
      "outputs": [],
      "execution_count": 27
    },
    {
      "cell_type": "code",
      "source": "list3=finddiagolength(edges,row)",
      "metadata": {
        "trusted": true
      },
      "outputs": [
        {
          "name": "stderr",
          "text": "<ipython-input-7-1060b58819fe>:7: RuntimeWarning: overflow encountered in scalar subtract\n  value = int(edges[row, j] - edges[row, list2[counter]])\n",
          "output_type": "stream"
        }
      ],
      "execution_count": 28
    },
    {
      "cell_type": "code",
      "source": "list3,edges=conditionalrotate(edges,list3,row)",
      "metadata": {
        "trusted": true
      },
      "outputs": [
        {
          "name": "stderr",
          "text": "<ipython-input-7-1060b58819fe>:7: RuntimeWarning: overflow encountered in scalar subtract\n  value = int(edges[row, j] - edges[row, list2[counter]])\n",
          "output_type": "stream"
        }
      ],
      "execution_count": 29
    },
    {
      "cell_type": "code",
      "source": "index1img3=findindex(list3)",
      "metadata": {
        "trusted": true
      },
      "outputs": [],
      "execution_count": 30
    },
    {
      "cell_type": "code",
      "source": "list3v=finddiagolengthv(edges,column)",
      "metadata": {
        "trusted": true
      },
      "outputs": [
        {
          "name": "stderr",
          "text": "<ipython-input-10-65ae66d6711d>:8: RuntimeWarning: overflow encountered in scalar subtract\n  value = int(edges[i, column] - edges[list2v[counter], column])\n",
          "output_type": "stream"
        }
      ],
      "execution_count": 31
    },
    {
      "cell_type": "code",
      "source": "index2img3=findindex(list3v)",
      "metadata": {
        "trusted": true
      },
      "outputs": [],
      "execution_count": 32
    },
    {
      "cell_type": "code",
      "source": "hdict={0:\"Ace\",1:'Hearts',2:'Clubs',3:'Spades',4:'Diamonds'}",
      "metadata": {
        "trusted": true
      },
      "outputs": [],
      "execution_count": 33
    },
    {
      "cell_type": "code",
      "source": "vdict={1:'2',2:'3',3:'4',4:'5',5:'6'}",
      "metadata": {
        "trusted": true
      },
      "outputs": [],
      "execution_count": 34
    },
    {
      "cell_type": "code",
      "source": "###    Output ####\n\nprint(f'{vdict[index2img1]} of {hdict[index1img1]}, {vdict[index2img2]} of {hdict[index1img2]} , {vdict[index2img3]} of {hdict[index1img3]}.')",
      "metadata": {
        "trusted": true
      },
      "outputs": [
        {
          "name": "stdout",
          "text": "3 of Spades, 6 of Hearts , 6 of Clubs.\n",
          "output_type": "stream"
        }
      ],
      "execution_count": 35
    }
  ]
}