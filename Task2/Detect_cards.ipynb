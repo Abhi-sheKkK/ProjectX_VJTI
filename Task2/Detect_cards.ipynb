{
  "metadata": {
    "kernelspec": {
      "name": "python",
      "display_name": "Python (Pyodide)",
      "language": "python"
    },
    "language_info": {
      "codemirror_mode": {
        "name": "python",
        "version": 3
      },
      "file_extension": ".py",
      "mimetype": "text/x-python",
      "name": "python",
      "nbconvert_exporter": "python",
      "pygments_lexer": "ipython3",
      "version": "3.8"
    }
  },
  "nbformat_minor": 4,
  "nbformat": 4,
  "cells": [
    {
      "cell_type": "code",
      "source": "import numpy as np\nimport cv2 as cv\nfrom matplotlib import pyplot as plt",
      "metadata": {
        "trusted": true
      },
      "outputs": [],
      "execution_count": 191
    },
    {
      "cell_type": "code",
      "source": "img1=cv.imread(\"tc2-1.png\")",
      "metadata": {
        "trusted": true
      },
      "outputs": [],
      "execution_count": 192
    },
    {
      "cell_type": "code",
      "source": "img2=cv.imread(\"tc2-2.png\")",
      "metadata": {
        "trusted": true
      },
      "outputs": [],
      "execution_count": 193
    },
    {
      "cell_type": "code",
      "source": "img3=cv.imread(\"tc2-3.png\")",
      "metadata": {
        "trusted": true
      },
      "outputs": [],
      "execution_count": 194
    },
    {
      "cell_type": "code",
      "source": "def cropimg(img):\n    img.shape\n    #removing border from image .\n    img=img[40:760,50:550]\n    return img",
      "metadata": {
        "trusted": true
      },
      "outputs": [],
      "execution_count": 195
    },
    {
      "cell_type": "code",
      "source": "def finddiagolength(img):\n    # Detecting edges\n    grayimg = cv.cvtColor(img, cv.COLOR_BGR2GRAY)\n    edges = cv.Canny(grayimg, 100, 200)\n    height, width = edges.shape\n    \n    # Finding the coordinate of leftmost point of the leftmost square\n    list1 = [width]\n    row = None\n\n    for i in range(100):\n        for j in range(width):\n            if edges[i, j] == 255:\n                if j < list1[0]:\n                    list1[0] = j\n                    row = i  # Store the current row index\n\n    # Finding horizontal diagonal end points of squares of horizontal row by detecting color change\n    list2 = [0]\n    counter = 0\n    for j in range(width):\n        value = int(edges[row, j] - edges[row, list2[counter]])\n        if value != 0:\n            counter += 1\n            list2.append(j)\n\n    # Finding the length of horizontal diagonal of each square\n    list3 = []\n    for n in range(5):\n        length = int(list2[4 * n + 3]) - int(list2[4 * n + 2])\n        list3.append(length)\n\n    return list3",
      "metadata": {
        "trusted": true
      },
      "outputs": [],
      "execution_count": 196
    },
    {
      "cell_type": "code",
      "source": "def conditionalrotate(img,list3):\n    if max(list3)-min(list3)<10:\n        img = cv.rotate(img, cv.ROTATE_180)\n        list3=finddiagolength(img)\n    return list3,img\n    \n    ",
      "metadata": {
        "trusted": true
      },
      "outputs": [],
      "execution_count": 197
    },
    {
      "cell_type": "code",
      "source": "def findindex(list3):\n    for n in range(len(list3)):\n        if list3[n]==max(list3):\n            index1=n\n    return index1",
      "metadata": {
        "trusted": true
      },
      "outputs": [],
      "execution_count": 198
    },
    {
      "cell_type": "code",
      "source": "def finddiagolengthv(img):\n    # Detecting edges\n    grayimg = cv.cvtColor(img, cv.COLOR_BGR2GRAY)\n    edges = cv.Canny(grayimg, 100, 200)\n    height, width = edges.shape\n    \n    # Finding the coordinate of topmost point of the topmost square\n    list1v = [height]\n    column = None\n    \n    for j in range(100):  \n        for i in range(height):\n            if edges[i, j] == 255:\n                if i < list1v[0]:\n                    list1v[0] = i\n                    column = j  # Store the current column index\n    \n    # Finding vertical diagonal end points of squares in vertical column by detecting color change\n    list2v = [0]\n    j = 49  \n    counter = 0\n    \n    for i in range(height):\n        value = int(edges[i, j] - edges[list2v[counter], j])\n        if value != 0:\n            counter += 1\n            list2v.append(i)\n    \n    # Finding the length of vertical diagonal of each square\n    list3v = []\n    for n in range(6):\n        length = int(list2v[4 * n + 3]) - int(list2v[4 * n + 2])\n        list3v.append(length)\n    \n    return list3v",
      "metadata": {
        "trusted": true
      },
      "outputs": [],
      "execution_count": 199
    },
    {
      "cell_type": "code",
      "source": "def findindexv(list3v):\n    #finding the index of longest diagonal.\n    for n in range(len(list3v)):\n        if list3v[n]==max(list3v):\n            index2=n\n    return index2        ",
      "metadata": {
        "trusted": true
      },
      "outputs": [],
      "execution_count": 200
    },
    {
      "cell_type": "code",
      "source": "img1=cropimg(img1)",
      "metadata": {
        "trusted": true
      },
      "outputs": [],
      "execution_count": 201
    },
    {
      "cell_type": "code",
      "source": "list3=finddiagolength(img1)",
      "metadata": {
        "trusted": true
      },
      "outputs": [
        {
          "name": "stderr",
          "text": "<ipython-input-196-64c066435702>:22: RuntimeWarning: overflow encountered in scalar subtract\n  value = int(edges[row, j] - edges[row, list2[counter]])\n",
          "output_type": "stream"
        }
      ],
      "execution_count": 202
    },
    {
      "cell_type": "code",
      "source": "list3,img1=conditionalrotate(img1,list3)",
      "metadata": {
        "trusted": true
      },
      "outputs": [],
      "execution_count": 203
    },
    {
      "cell_type": "code",
      "source": "index1img1=findindex(list3)",
      "metadata": {
        "trusted": true
      },
      "outputs": [],
      "execution_count": 204
    },
    {
      "cell_type": "code",
      "source": "list3v=finddiagolengthv(img1)",
      "metadata": {
        "trusted": true
      },
      "outputs": [
        {
          "name": "stderr",
          "text": "<ipython-input-199-91aa77c158cc>:24: RuntimeWarning: overflow encountered in scalar subtract\n  value = int(edges[i, j] - edges[list2v[counter], j])\n",
          "output_type": "stream"
        }
      ],
      "execution_count": 205
    },
    {
      "cell_type": "code",
      "source": "index2img1=findindex(list3v)",
      "metadata": {
        "trusted": true
      },
      "outputs": [],
      "execution_count": 206
    },
    {
      "cell_type": "code",
      "source": "img2=cropimg(img2)",
      "metadata": {
        "trusted": true
      },
      "outputs": [],
      "execution_count": 207
    },
    {
      "cell_type": "code",
      "source": "list3=finddiagolength(img2)",
      "metadata": {
        "trusted": true
      },
      "outputs": [
        {
          "name": "stderr",
          "text": "<ipython-input-196-64c066435702>:22: RuntimeWarning: overflow encountered in scalar subtract\n  value = int(edges[row, j] - edges[row, list2[counter]])\n",
          "output_type": "stream"
        }
      ],
      "execution_count": 208
    },
    {
      "cell_type": "code",
      "source": "list3,img2=conditionalrotate(img2,list3)",
      "metadata": {
        "trusted": true
      },
      "outputs": [],
      "execution_count": 209
    },
    {
      "cell_type": "code",
      "source": "index1img2=findindex(list3)",
      "metadata": {
        "trusted": true
      },
      "outputs": [],
      "execution_count": 210
    },
    {
      "cell_type": "code",
      "source": "list3v=finddiagolengthv(img2)",
      "metadata": {
        "trusted": true
      },
      "outputs": [
        {
          "name": "stderr",
          "text": "<ipython-input-199-91aa77c158cc>:24: RuntimeWarning: overflow encountered in scalar subtract\n  value = int(edges[i, j] - edges[list2v[counter], j])\n",
          "output_type": "stream"
        }
      ],
      "execution_count": 211
    },
    {
      "cell_type": "code",
      "source": "index2img2=findindex(list3v)",
      "metadata": {
        "trusted": true
      },
      "outputs": [],
      "execution_count": 212
    },
    {
      "cell_type": "code",
      "source": "img3=cropimg(img3)",
      "metadata": {
        "trusted": true
      },
      "outputs": [],
      "execution_count": 213
    },
    {
      "cell_type": "code",
      "source": "list3=finddiagolength(img3)",
      "metadata": {
        "trusted": true
      },
      "outputs": [
        {
          "name": "stderr",
          "text": "<ipython-input-196-64c066435702>:22: RuntimeWarning: overflow encountered in scalar subtract\n  value = int(edges[row, j] - edges[row, list2[counter]])\n",
          "output_type": "stream"
        }
      ],
      "execution_count": 214
    },
    {
      "cell_type": "code",
      "source": "list3,img3=conditionalrotate(img3,list3)",
      "metadata": {
        "trusted": true
      },
      "outputs": [
        {
          "name": "stderr",
          "text": "<ipython-input-196-64c066435702>:22: RuntimeWarning: overflow encountered in scalar subtract\n  value = int(edges[row, j] - edges[row, list2[counter]])\n",
          "output_type": "stream"
        }
      ],
      "execution_count": 215
    },
    {
      "cell_type": "code",
      "source": "index1img3=findindex(list3)",
      "metadata": {
        "trusted": true
      },
      "outputs": [],
      "execution_count": 216
    },
    {
      "cell_type": "code",
      "source": "list3v=finddiagolengthv(img3)",
      "metadata": {
        "trusted": true
      },
      "outputs": [
        {
          "name": "stderr",
          "text": "<ipython-input-199-91aa77c158cc>:24: RuntimeWarning: overflow encountered in scalar subtract\n  value = int(edges[i, j] - edges[list2v[counter], j])\n",
          "output_type": "stream"
        }
      ],
      "execution_count": 217
    },
    {
      "cell_type": "code",
      "source": "index2img3=findindex(list3v)",
      "metadata": {
        "trusted": true
      },
      "outputs": [],
      "execution_count": 218
    },
    {
      "cell_type": "code",
      "source": "hdict={0:\"Ace\",1:'Hearts',2:'Clubs',3:'Spades',4:'Diamonds'}",
      "metadata": {
        "trusted": true
      },
      "outputs": [],
      "execution_count": 219
    },
    {
      "cell_type": "code",
      "source": "vdict={1:'2',2:'3',3:'4',4:'5',5:'6'}",
      "metadata": {
        "trusted": true
      },
      "outputs": [],
      "execution_count": 220
    },
    {
      "cell_type": "code",
      "source": "###    Output ####\n\nprint(f'{vdict[index2img1]} of {hdict[index1img1]}, {vdict[index2img2]} of {hdict[index1img2]} , {vdict[index2img3]} of {hdict[index1img3]}.')",
      "metadata": {
        "trusted": true
      },
      "outputs": [
        {
          "name": "stdout",
          "text": "3 of Spades, 6 of Hearts , 6 of Clubs.\n",
          "output_type": "stream"
        }
      ],
      "execution_count": 222
    }
  ]
}