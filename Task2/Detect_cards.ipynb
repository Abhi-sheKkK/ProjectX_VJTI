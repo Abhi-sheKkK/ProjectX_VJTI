{
  "cells": [
    {
      "cell_type": "code",
      "execution_count": 1,
      "metadata": {
        "trusted": true
      },
      "outputs": [],
      "source": [
        "import numpy as np\n",
        "import cv2 as cv\n",
        "from matplotlib import pyplot as plt"
      ]
    },
    {
      "cell_type": "code",
      "execution_count": 2,
      "metadata": {
        "trusted": true
      },
      "outputs": [],
      "source": [
        "img1=cv.imread(\"tc2-1.png\")"
      ]
    },
    {
      "cell_type": "code",
      "execution_count": 3,
      "metadata": {
        "trusted": true
      },
      "outputs": [],
      "source": [
        "img2=cv.imread(\"tc2-2.png\")"
      ]
    },
    {
      "cell_type": "code",
      "execution_count": 4,
      "metadata": {
        "trusted": true
      },
      "outputs": [],
      "source": [
        "img3=cv.imread(\"tc2-3.png\")"
      ]
    },
    {
      "cell_type": "code",
      "execution_count": 5,
      "metadata": {
        "trusted": true
      },
      "outputs": [],
      "source": [
        "def cropimg(img):\n",
        "    img.shape\n",
        "    #removing border from image .\n",
        "    img=img[40:760,50:550]\n",
        "    return img"
      ]
    },
    {
      "cell_type": "code",
      "execution_count": 6,
      "metadata": {
        "trusted": true
      },
      "outputs": [],
      "source": [
        "def finddiagolength(img):\n",
        "    # Detecting edges\n",
        "    grayimg = cv.cvtColor(img, cv.COLOR_BGR2GRAY)\n",
        "    edges = cv.Canny(grayimg, 100, 200)\n",
        "    height, width = edges.shape\n",
        "    \n",
        "    # Finding the coordinate of leftmost point of the leftmost square\n",
        "    list1 = [width]\n",
        "    row = None\n",
        "\n",
        "    for i in range(100):\n",
        "        for j in range(width):\n",
        "            if edges[i, j] == 255:\n",
        "                if j < list1[0]:\n",
        "                    list1[0] = j\n",
        "                    row = i  # Store the current row index\n",
        "\n",
        "    # Finding horizontal diagonal end points of squares of horizontal row by detecting color change\n",
        "    list2 = [0]\n",
        "    counter = 0\n",
        "    for j in range(width):\n",
        "        value = int(edges[row, j] - edges[row, list2[counter]])\n",
        "        if value != 0:\n",
        "            counter += 1\n",
        "            list2.append(j)\n",
        "\n",
        "    # Finding the length of horizontal diagonal of each square\n",
        "    list3 = []\n",
        "    for n in range(5):\n",
        "        length = int(list2[4 * n + 3]) - int(list2[4 * n + 2])\n",
        "        list3.append(length)\n",
        "\n",
        "    return list3"
      ]
    },
    {
      "cell_type": "code",
      "execution_count": 7,
      "metadata": {
        "trusted": true
      },
      "outputs": [],
      "source": [
        "def conditionalrotate(img,list3):\n",
        "    if max(list3)-min(list3)<10:\n",
        "        img = cv.rotate(img, cv.ROTATE_180)\n",
        "        list3=finddiagolength(img)\n",
        "    return list3,img\n",
        "    \n",
        "    "
      ]
    },
    {
      "cell_type": "code",
      "execution_count": 8,
      "metadata": {
        "trusted": true
      },
      "outputs": [],
      "source": [
        "def findindex(list3):\n",
        "    for n in range(len(list3)):\n",
        "        if list3[n]==max(list3):\n",
        "            index1=n\n",
        "    return index1"
      ]
    },
    {
      "cell_type": "code",
      "execution_count": 9,
      "metadata": {
        "trusted": true
      },
      "outputs": [],
      "source": [
        "def finddiagolengthv(img):\n",
        "    # Detecting edges\n",
        "    grayimg = cv.cvtColor(img, cv.COLOR_BGR2GRAY)\n",
        "    edges = cv.Canny(grayimg, 100, 200)\n",
        "    height, width = edges.shape\n",
        "    \n",
        "    # Finding the coordinate of topmost point of the topmost square\n",
        "    list1v = [height]\n",
        "    column = None\n",
        "    \n",
        "    for j in range(100):  \n",
        "        for i in range(height):\n",
        "            if edges[i, j] == 255:\n",
        "                if i < list1v[0]:\n",
        "                    list1v[0] = i\n",
        "                    column = j  # Store the current column index\n",
        "    \n",
        "    # Finding vertical diagonal end points of squares in vertical column by detecting color change\n",
        "    list2v = [0] \n",
        "    counter = 0\n",
        "    \n",
        "    for i in range(height):\n",
        "        value = int(edges[i, column] - edges[list2v[counter], column])\n",
        "        if value != 0:\n",
        "            counter += 1\n",
        "            list2v.append(i)\n",
        "    \n",
        "    # Finding the length of vertical diagonal of each square\n",
        "    list3v = []\n",
        "    for n in range(6):\n",
        "        length = int(list2v[4 * n + 3]) - int(list2v[4 * n + 2])\n",
        "        list3v.append(length)\n",
        "    \n",
        "    return list3v"
      ]
    },
    {
      "cell_type": "code",
      "execution_count": 10,
      "metadata": {
        "trusted": true
      },
      "outputs": [],
      "source": [
        "def findindexv(list3v):\n",
        "    #finding the index of longest diagonal.\n",
        "    for n in range(len(list3v)):\n",
        "        if list3v[n]==max(list3v):\n",
        "            index2=n\n",
        "    return index2        "
      ]
    },
    {
      "cell_type": "code",
      "execution_count": 11,
      "metadata": {
        "trusted": true
      },
      "outputs": [],
      "source": [
        "img1=cropimg(img1)"
      ]
    },
    {
      "cell_type": "code",
      "execution_count": 12,
      "metadata": {
        "trusted": true
      },
      "outputs": [
        {
          "name": "stderr",
          "output_type": "stream",
          "text": [
            "C:\\Users\\abhis\\AppData\\Local\\Temp\\ipykernel_8024\\3686145698.py:22: RuntimeWarning: overflow encountered in scalar subtract\n",
            "  value = int(edges[row, j] - edges[row, list2[counter]])\n"
          ]
        }
      ],
      "source": [
        "list3=finddiagolength(img1)"
      ]
    },
    {
      "cell_type": "code",
      "execution_count": 13,
      "metadata": {
        "trusted": true
      },
      "outputs": [],
      "source": [
        "list3,img1=conditionalrotate(img1,list3)"
      ]
    },
    {
      "cell_type": "code",
      "execution_count": 14,
      "metadata": {
        "trusted": true
      },
      "outputs": [],
      "source": [
        "index1img1=findindex(list3)"
      ]
    },
    {
      "cell_type": "code",
      "execution_count": 15,
      "metadata": {
        "trusted": true
      },
      "outputs": [
        {
          "name": "stderr",
          "output_type": "stream",
          "text": [
            "C:\\Users\\abhis\\AppData\\Local\\Temp\\ipykernel_8024\\597493068.py:23: RuntimeWarning: overflow encountered in scalar subtract\n",
            "  value = int(edges[i, column] - edges[list2v[counter], column])\n"
          ]
        }
      ],
      "source": [
        "list3v=finddiagolengthv(img1)"
      ]
    },
    {
      "cell_type": "code",
      "execution_count": 16,
      "metadata": {
        "trusted": true
      },
      "outputs": [],
      "source": [
        "index2img1=findindex(list3v)"
      ]
    },
    {
      "cell_type": "code",
      "execution_count": 17,
      "metadata": {
        "trusted": true
      },
      "outputs": [],
      "source": [
        "img2=cropimg(img2)"
      ]
    },
    {
      "cell_type": "code",
      "execution_count": 18,
      "metadata": {
        "trusted": true
      },
      "outputs": [
        {
          "name": "stderr",
          "output_type": "stream",
          "text": [
            "C:\\Users\\abhis\\AppData\\Local\\Temp\\ipykernel_8024\\3686145698.py:22: RuntimeWarning: overflow encountered in scalar subtract\n",
            "  value = int(edges[row, j] - edges[row, list2[counter]])\n"
          ]
        }
      ],
      "source": [
        "list3=finddiagolength(img2)"
      ]
    },
    {
      "cell_type": "code",
      "execution_count": 19,
      "metadata": {
        "trusted": true
      },
      "outputs": [],
      "source": [
        "list3,img2=conditionalrotate(img2,list3)"
      ]
    },
    {
      "cell_type": "code",
      "execution_count": 20,
      "metadata": {
        "trusted": true
      },
      "outputs": [],
      "source": [
        "index1img2=findindex(list3)"
      ]
    },
    {
      "cell_type": "code",
      "execution_count": 21,
      "metadata": {
        "trusted": true
      },
      "outputs": [
        {
          "name": "stderr",
          "output_type": "stream",
          "text": [
            "C:\\Users\\abhis\\AppData\\Local\\Temp\\ipykernel_8024\\597493068.py:23: RuntimeWarning: overflow encountered in scalar subtract\n",
            "  value = int(edges[i, column] - edges[list2v[counter], column])\n"
          ]
        }
      ],
      "source": [
        "list3v=finddiagolengthv(img2)"
      ]
    },
    {
      "cell_type": "code",
      "execution_count": 22,
      "metadata": {
        "trusted": true
      },
      "outputs": [],
      "source": [
        "index2img2=findindex(list3v)"
      ]
    },
    {
      "cell_type": "code",
      "execution_count": 23,
      "metadata": {
        "trusted": true
      },
      "outputs": [],
      "source": [
        "img3=cropimg(img3)"
      ]
    },
    {
      "cell_type": "code",
      "execution_count": 24,
      "metadata": {
        "trusted": true
      },
      "outputs": [
        {
          "name": "stderr",
          "output_type": "stream",
          "text": [
            "C:\\Users\\abhis\\AppData\\Local\\Temp\\ipykernel_8024\\3686145698.py:22: RuntimeWarning: overflow encountered in scalar subtract\n",
            "  value = int(edges[row, j] - edges[row, list2[counter]])\n"
          ]
        }
      ],
      "source": [
        "list3=finddiagolength(img3)"
      ]
    },
    {
      "cell_type": "code",
      "execution_count": 25,
      "metadata": {
        "trusted": true
      },
      "outputs": [
        {
          "name": "stderr",
          "output_type": "stream",
          "text": [
            "C:\\Users\\abhis\\AppData\\Local\\Temp\\ipykernel_8024\\3686145698.py:22: RuntimeWarning: overflow encountered in scalar subtract\n",
            "  value = int(edges[row, j] - edges[row, list2[counter]])\n"
          ]
        }
      ],
      "source": [
        "list3,img3=conditionalrotate(img3,list3)"
      ]
    },
    {
      "cell_type": "code",
      "execution_count": 26,
      "metadata": {
        "trusted": true
      },
      "outputs": [],
      "source": [
        "index1img3=findindex(list3)"
      ]
    },
    {
      "cell_type": "code",
      "execution_count": 27,
      "metadata": {
        "trusted": true
      },
      "outputs": [
        {
          "name": "stderr",
          "output_type": "stream",
          "text": [
            "C:\\Users\\abhis\\AppData\\Local\\Temp\\ipykernel_8024\\597493068.py:23: RuntimeWarning: overflow encountered in scalar subtract\n",
            "  value = int(edges[i, column] - edges[list2v[counter], column])\n"
          ]
        }
      ],
      "source": [
        "list3v=finddiagolengthv(img3)"
      ]
    },
    {
      "cell_type": "code",
      "execution_count": 28,
      "metadata": {
        "trusted": true
      },
      "outputs": [],
      "source": [
        "index2img3=findindex(list3v)"
      ]
    },
    {
      "cell_type": "code",
      "execution_count": 29,
      "metadata": {
        "trusted": true
      },
      "outputs": [],
      "source": [
        "hdict={0:\"Ace\",1:'Hearts',2:'Clubs',3:'Spades',4:'Diamonds'}"
      ]
    },
    {
      "cell_type": "code",
      "execution_count": 30,
      "metadata": {
        "trusted": true
      },
      "outputs": [],
      "source": [
        "vdict={1:'2',2:'3',3:'4',4:'5',5:'6'}"
      ]
    },
    {
      "cell_type": "code",
      "execution_count": 31,
      "metadata": {
        "trusted": true
      },
      "outputs": [
        {
          "name": "stdout",
          "output_type": "stream",
          "text": [
            "3 of Spades, 6 of Hearts , 6 of Clubs.\n"
          ]
        }
      ],
      "source": [
        "###    Output ####\n",
        "\n",
        "print(f'{vdict[index2img1]} of {hdict[index1img1]}, {vdict[index2img2]} of {hdict[index1img2]} , {vdict[index2img3]} of {hdict[index1img3]}.')"
      ]
    }
  ],
  "metadata": {
    "kernelspec": {
      "display_name": "Python 3",
      "language": "python",
      "name": "python3"
    },
    "language_info": {
      "codemirror_mode": {
        "name": "ipython",
        "version": 3
      },
      "file_extension": ".py",
      "mimetype": "text/x-python",
      "name": "python",
      "nbconvert_exporter": "python",
      "pygments_lexer": "ipython3",
      "version": "3.11.9"
    }
  },
  "nbformat": 4,
  "nbformat_minor": 4
}
