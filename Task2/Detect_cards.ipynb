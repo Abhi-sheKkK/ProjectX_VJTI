{
  "metadata": {
    "kernelspec": {
      "name": "python",
      "display_name": "Python (Pyodide)",
      "language": "python"
    },
    "language_info": {
      "codemirror_mode": {
        "name": "python",
        "version": 3
      },
      "file_extension": ".py",
      "mimetype": "text/x-python",
      "name": "python",
      "nbconvert_exporter": "python",
      "pygments_lexer": "ipython3",
      "version": "3.8"
    }
  },
  "nbformat_minor": 4,
  "nbformat": 4,
  "cells": [
    {
      "cell_type": "code",
      "source": "import numpy as np\nimport cv2 as cv\nfrom matplotlib import pyplot as plt",
      "metadata": {
        "trusted": true
      },
      "outputs": [],
      "execution_count": 385
    },
    {
      "cell_type": "code",
      "source": "img1=cv.imread(\"tc2-1.png\")",
      "metadata": {
        "trusted": true
      },
      "outputs": [],
      "execution_count": 454
    },
    {
      "cell_type": "code",
      "source": "img2=cv.imread(\"tc2-2.png\")",
      "metadata": {
        "trusted": true
      },
      "outputs": [],
      "execution_count": 455
    },
    {
      "cell_type": "code",
      "source": "img3=cv.imread(\"tc2-3.png\")",
      "metadata": {
        "trusted": true
      },
      "outputs": [],
      "execution_count": 456
    },
    {
      "cell_type": "code",
      "source": "def cropimg(img):\n    img.shape\n    #removing border from image .\n    img=img[40:760,50:550]\n    return img",
      "metadata": {
        "trusted": true
      },
      "outputs": [],
      "execution_count": 457
    },
    {
      "cell_type": "code",
      "source": "def findrow(img):\n    height,width,c=img.shape\n    column=width\n    break_outer=False\n    for i in range(height):\n        if break_outer:\n            break\n        for j in range(width): \n            if list(img[i, j])!=list(img[0,0]):\n                if j<=column: \n                    column=j\n                    row=i\n                    break\n                else:\n                    break_outer=True\n                    break\n    return row\n    ",
      "metadata": {
        "trusted": true
      },
      "outputs": [],
      "execution_count": 458
    },
    {
      "cell_type": "code",
      "source": "def findcolumn(img):\n    height,width,c=img.shape\n    row=height\n    break_outer=False\n    for j in range(width):\n        if break_outer:\n            break\n        for i in range(height): \n            if list(img[i, j])!=list(img[0,0]):\n                if i<row:\n                    row=i\n                    column=j\n                    break\n                else:\n                    break_outer=True\n                    break\n    return column\n    ",
      "metadata": {
        "trusted": true
      },
      "outputs": [],
      "execution_count": 459
    },
    {
      "cell_type": "code",
      "source": "def finddiagolength(img,row):\n    height, width,c = img.shape\n    list2 = []\n    diff_list2=[]\n    diagolens=[]\n    for j in range(width):\n        if list(img[row,j])==[255,255,255]:\n            list2.append(j)\n    for n in range(len(list2)-1):\n        diff_list2.append(list2[n+1]-list2[n])\n    for diff in diff_list2:\n        if diff>1:\n            diagolens.append(diff)\n    return diagolens",
      "metadata": {
        "trusted": true
      },
      "outputs": [],
      "execution_count": 460
    },
    {
      "cell_type": "code",
      "source": "def conditionalrotate(img,diagolens,row):\n    if max(diagolens)-min(diagolens)<10:\n        img = cv.rotate(img, cv.ROTATE_180)\n        diagolens=finddiagolength(img,row)\n    return diagolens,img\n    \n    ",
      "metadata": {
        "trusted": true
      },
      "outputs": [],
      "execution_count": 461
    },
    {
      "cell_type": "code",
      "source": "def findindex(diagolens):\n    for n in range(len(diagolens)):\n        if diagolens[n]==max(diagolens):\n            index1=n\n    return index1",
      "metadata": {
        "trusted": true
      },
      "outputs": [],
      "execution_count": 462
    },
    {
      "cell_type": "code",
      "source": "def finddiagolengthv(img,column):\n    height,width,c = img.shape\n    # Finding vertical diagonal end points of squares in vertical column by detecting color change\n    list2 = []\n    diff_list2=[]\n    diagolensv=[]\n    for i in range(height):\n        if list(img[i,column])==[255,255,255]:\n            list2.append(i)\n    for n in range(len(list2)-1):\n        diff_list2.append(list2[n+1]-list2[n])\n    for diff in diff_list2:\n        if diff>1:\n            diagolensv.append(diff)\n    \n    return diagolensv",
      "metadata": {
        "trusted": true
      },
      "outputs": [],
      "execution_count": 463
    },
    {
      "cell_type": "code",
      "source": "def findindexv(diagolensv):\n    #finding the index of longest diagonal.\n    for n in range(len(diagolensv)):\n        if diagolensv[n]==max(diagolensv):\n            index2=n\n    return index2        ",
      "metadata": {
        "trusted": true
      },
      "outputs": [],
      "execution_count": 464
    },
    {
      "cell_type": "code",
      "source": "img1=cropimg(img1)",
      "metadata": {
        "trusted": true
      },
      "outputs": [],
      "execution_count": 465
    },
    {
      "cell_type": "code",
      "source": "row,column=findrow(img1),findcolumn(img1)",
      "metadata": {
        "trusted": true
      },
      "outputs": [],
      "execution_count": 466
    },
    {
      "cell_type": "code",
      "source": "diagolens=finddiagolength(img1,row)",
      "metadata": {
        "trusted": true
      },
      "outputs": [],
      "execution_count": 467
    },
    {
      "cell_type": "code",
      "source": "diagolens,img1=conditionalrotate(img1,diagolens,row)",
      "metadata": {
        "trusted": true
      },
      "outputs": [],
      "execution_count": 468
    },
    {
      "cell_type": "code",
      "source": "img1index1=findindex(diagolens)",
      "metadata": {
        "trusted": true
      },
      "outputs": [],
      "execution_count": 469
    },
    {
      "cell_type": "code",
      "source": "diagolensv=finddiagolengthv(img1,column)",
      "metadata": {
        "trusted": true
      },
      "outputs": [],
      "execution_count": 470
    },
    {
      "cell_type": "code",
      "source": "img1index2=findindexv(diagolensv)",
      "metadata": {
        "trusted": true
      },
      "outputs": [],
      "execution_count": 471
    },
    {
      "cell_type": "code",
      "source": "img2=cropimg(img2)",
      "metadata": {
        "trusted": true
      },
      "outputs": [],
      "execution_count": 472
    },
    {
      "cell_type": "code",
      "source": "row,column=findrow(img2),findcolumn(img2)",
      "metadata": {
        "trusted": true
      },
      "outputs": [],
      "execution_count": 473
    },
    {
      "cell_type": "code",
      "source": "diagolens=finddiagolength(img2,row)",
      "metadata": {
        "trusted": true
      },
      "outputs": [],
      "execution_count": 474
    },
    {
      "cell_type": "code",
      "source": "diagolens,img2=conditionalrotate(img2,diagolens,row)",
      "metadata": {
        "trusted": true
      },
      "outputs": [],
      "execution_count": 475
    },
    {
      "cell_type": "code",
      "source": "img2index1=findindex(diagolens)",
      "metadata": {
        "trusted": true
      },
      "outputs": [],
      "execution_count": 476
    },
    {
      "cell_type": "code",
      "source": "diagolensv=finddiagolengthv(img2,column)",
      "metadata": {
        "trusted": true
      },
      "outputs": [],
      "execution_count": 477
    },
    {
      "cell_type": "code",
      "source": "img2index2=findindexv(diagolensv)",
      "metadata": {
        "trusted": true
      },
      "outputs": [],
      "execution_count": 478
    },
    {
      "cell_type": "code",
      "source": "img3=cropimg(img3)",
      "metadata": {
        "trusted": true
      },
      "outputs": [],
      "execution_count": 479
    },
    {
      "cell_type": "code",
      "source": "row,column=findrow(img3),findcolumn(img3)",
      "metadata": {
        "trusted": true
      },
      "outputs": [],
      "execution_count": 480
    },
    {
      "cell_type": "code",
      "source": "diagolens=finddiagolength(img3,row)",
      "metadata": {
        "trusted": true
      },
      "outputs": [],
      "execution_count": 481
    },
    {
      "cell_type": "code",
      "source": "diagolens,img3=conditionalrotate(img3,diagolens,row)",
      "metadata": {
        "trusted": true
      },
      "outputs": [],
      "execution_count": 482
    },
    {
      "cell_type": "code",
      "source": "img3index1=findindex(diagolens)",
      "metadata": {
        "trusted": true
      },
      "outputs": [],
      "execution_count": 483
    },
    {
      "cell_type": "code",
      "source": "diagolensv=finddiagolengthv(img3,column)",
      "metadata": {
        "trusted": true
      },
      "outputs": [],
      "execution_count": 484
    },
    {
      "cell_type": "code",
      "source": "img3index2=findindexv(diagolensv)",
      "metadata": {
        "trusted": true
      },
      "outputs": [],
      "execution_count": 485
    },
    {
      "cell_type": "code",
      "source": "hdict={0:\"Ace\",1:'Hearts',2:'Clubs',3:'Spades',4:'Diamonds'}\nvdict={1:'2',2:'3',3:'4',4:'5',5:'6'}",
      "metadata": {
        "trusted": true
      },
      "outputs": [],
      "execution_count": 486
    },
    {
      "cell_type": "code",
      "source": "###    Output ####\n\nprint(f'{vdict[img1index2]} of {hdict[img1index1]}, {vdict[img2index2]} of {hdict[img2index1]} , {vdict[img3index2]} of {hdict[img3index1]}.')",
      "metadata": {
        "trusted": true
      },
      "outputs": [
        {
          "name": "stdout",
          "text": "3 of Spades, 6 of Hearts , 6 of Clubs.\n",
          "output_type": "stream"
        }
      ],
      "execution_count": 487
    }
  ]
}